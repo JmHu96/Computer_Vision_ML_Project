{
 "cells": [
  {
   "cell_type": "code",
   "execution_count": 1,
   "metadata": {},
   "outputs": [],
   "source": [
    "import cv2\n",
    "import numpy as np\n",
    "from LM_bank import *\n",
    "from skimage import color\n",
    "\n",
    "\n",
    "with open(\"train.txt\") as file:\n",
    "    train_imgs = [line.rstrip() for line in file]\n",
    "\n",
    "with open(\"val.txt\") as file:\n",
    "    val_imgs = [line.rstrip() for line in file]\n",
    "\n",
    "with open(\"test.txt\") as file:\n",
    "    test_imgs = [line.rstrip() for line in file]\n",
    "\n",
    "def read_img(imgs,i):\n",
    "    return cv2.imread(\"images/\"+imgs[i])\n",
    "\n",
    "def as_numeric(labels,target):\n",
    "    return np.where(labels == target)[0][0]\n",
    "\n",
    "def my_convolve(img,kernel,gap):\n",
    "    output = np.array([])\n",
    "    n,m = img.shape\n",
    "    for i in range(n):\n",
    "        for j in range(m):\n",
    "            if i < 24 or i >= n - 24 or j < 24 or j >= m - 24 or i%gap != 0 or j%gap != 0:\n",
    "                continue\n",
    "            else:\n",
    "                mat_temp = img[i-24:i+25,j-24:j+25]\n",
    "                output = np.append(output,np.sum(mat_temp*kernel))\n",
    "    return output\n",
    "\n",
    "\n",
    "def img_as_features(image,F,gap):\n",
    "    for j in range(F.shape[2]):\n",
    "        F_now = F[:,:,j]\n",
    "        if j == 0:\n",
    "            temp = my_convolve(image,F_now,gap)\n",
    "            xs_now = np.zeros((len(temp),F.shape[2]))\n",
    "            xs_now[:,0] = temp\n",
    "        else:\n",
    "            xs_now[:,j] = my_convolve(image,F_now,gap)\n",
    "    return xs_now\n",
    "\n",
    "F = makeLMfilters()"
   ]
  },
  {
   "cell_type": "code",
   "execution_count": null,
   "metadata": {},
   "outputs": [],
   "source": [
    "gap_5_train_as_vector = [[]]*len(train_imgs)\n",
    "\n",
    "for i in range(len(train_imgs)):\n",
    "    print(i)\n",
    "    img_now = color.rgb2gray(read_img(train_imgs,i))\n",
    "    gap_5_train_as_vector[i] = img_as_features(img_now,F,4)\n",
    "\n",
    "np.save('gap_5_train_as_vector',gap_5_train_as_vector)"
   ]
  },
  {
   "cell_type": "code",
   "execution_count": null,
   "metadata": {},
   "outputs": [],
   "source": [
    "gap_5_val_as_vector = [[]]*len(val_imgs)\n",
    "\n",
    "for i in range(len(val_imgs)):\n",
    "    print(i)\n",
    "    img_now = color.rgb2gray(read_img(val_imgs,i))\n",
    "    gap_5_val_as_vector[i] = img_as_features(img_now,F,4)\n",
    "\n",
    "np.save('gap_5_val_as_vector',gap_5_val_as_vector)"
   ]
  },
  {
   "cell_type": "code",
   "execution_count": null,
   "metadata": {},
   "outputs": [],
   "source": [
    "gap_5_test_as_vector = [[]]*len(test_imgs)\n",
    "\n",
    "for i in range(len(test_imgs)):\n",
    "    print(i)\n",
    "    img_now = color.rgb2gray(read_img(test_imgs,i))\n",
    "    gap_5_test_as_vector[i] = img_as_features(img_now,F,4)\n",
    "\n",
    "np.save('gap_5_test_as_vector',gap_5_test_as_vector)"
   ]
  }
 ],
 "metadata": {
  "interpreter": {
   "hash": "18de5e7743f12e9cb9d334ebf3a9bf75b8bf89577da91cd506382469f09f6abb"
  },
  "kernelspec": {
   "display_name": "Python 3.8.8 ('base')",
   "language": "python",
   "name": "python3"
  },
  "language_info": {
   "codemirror_mode": {
    "name": "ipython",
    "version": 3
   },
   "file_extension": ".py",
   "mimetype": "text/x-python",
   "name": "python",
   "nbconvert_exporter": "python",
   "pygments_lexer": "ipython3",
   "version": "3.8.8"
  },
  "orig_nbformat": 4
 },
 "nbformat": 4,
 "nbformat_minor": 2
}
